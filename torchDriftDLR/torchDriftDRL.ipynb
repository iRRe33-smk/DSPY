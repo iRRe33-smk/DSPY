{
 "cells": [
  {
   "cell_type": "code",
   "execution_count": 86,
   "metadata": {
    "vscode": {
     "languageId": "latex"
    }
   },
   "outputs": [
    {
     "data": {
      "text/latex": [
       "This project will try to get a car to drift in a straight circle.\n",
       "\n",
       "State:\n",
       "- Position [$x,y$]\n",
       "- Velocity [$dx,dy$]\n",
       "- Acceleration [$d^2 x, d^2 y$]\n",
       "- Oversteef bool \n",
       "\n",
       "\n",
       "grip-model\n",
       "\n",
       "Friction/grip $F_f = \\mu * N$ = $\\mu * m * g$ Assuming flat ground\n",
       "\n",
       "\n",
       "\n",
       "Action:\n",
       "- Steering angle [$-\\frac{2}{3}\\pi,\\frac{2}{3}\\pi$]\n",
       "- Gas [0,1]\n"
      ],
      "text/plain": [
       "<IPython.core.display.Latex object>"
      ]
     },
     "metadata": {},
     "output_type": "display_data"
    }
   ],
   "source": [
    "%%latex\n",
    "This project will try to get a car to drift in a straight circle.\n",
    "\n",
    "State:\n",
    "- Position [$x,y$]\n",
    "- Velocity [$dx,dy$]\n",
    "- Acceleration [$d^2 x, d^2 y$]\n",
    "- Oversteef bool \n",
    "\n",
    "\n",
    "grip-model\n",
    "\n",
    "Friction/grip $F_f = \\mu * N$ = $\\mu * m * g$ Assuming flat ground\n",
    "\n",
    "\n",
    "\n",
    "Action:\n",
    "- Steering angle [$-\\frac{2}{3}\\pi,\\frac{2}{3}\\pi$]\n",
    "- Gas [0,1]\n"
   ]
  },
  {
   "cell_type": "code",
   "execution_count": 105,
   "metadata": {},
   "outputs": [],
   "source": [
    "import numpy as np\n",
    "import matplotlib.pyplot as plt\n",
    "import pandas as pd"
   ]
  },
  {
   "cell_type": "code",
   "execution_count": 137,
   "metadata": {},
   "outputs": [
    {
     "name": "stdout",
     "output_type": "stream",
     "text": [
      "1.0\n",
      "2.0\n",
      "4.0\n",
      "8.0\n",
      "16.0\n",
      "32.0\n",
      "64.0\n",
      "128.0\n",
      "256.0\n",
      "512.0\n"
     ]
    },
    {
     "data": {
      "text/html": [
       "<div>\n",
       "<style scoped>\n",
       "    .dataframe tbody tr th:only-of-type {\n",
       "        vertical-align: middle;\n",
       "    }\n",
       "\n",
       "    .dataframe tbody tr th {\n",
       "        vertical-align: top;\n",
       "    }\n",
       "\n",
       "    .dataframe thead th {\n",
       "        text-align: right;\n",
       "    }\n",
       "</style>\n",
       "<table border=\"1\" class=\"dataframe\">\n",
       "  <thead>\n",
       "    <tr style=\"text-align: right;\">\n",
       "      <th></th>\n",
       "      <th>posX</th>\n",
       "      <th>posY</th>\n",
       "      <th>Vx</th>\n",
       "      <th>Vy</th>\n",
       "      <th>vAbs</th>\n",
       "    </tr>\n",
       "  </thead>\n",
       "  <tbody>\n",
       "    <tr>\n",
       "      <th>0</th>\n",
       "      <td>0.000000e+00</td>\n",
       "      <td>0.0</td>\n",
       "      <td>0.000000e+00</td>\n",
       "      <td>1.0</td>\n",
       "      <td>1.0</td>\n",
       "    </tr>\n",
       "    <tr>\n",
       "      <th>1</th>\n",
       "      <td>0.000000e+00</td>\n",
       "      <td>1.0</td>\n",
       "      <td>6.123234e-17</td>\n",
       "      <td>2.0</td>\n",
       "      <td>2.0</td>\n",
       "    </tr>\n",
       "    <tr>\n",
       "      <th>2</th>\n",
       "      <td>6.123234e-17</td>\n",
       "      <td>3.0</td>\n",
       "      <td>1.836970e-16</td>\n",
       "      <td>4.0</td>\n",
       "      <td>4.0</td>\n",
       "    </tr>\n",
       "    <tr>\n",
       "      <th>3</th>\n",
       "      <td>2.449294e-16</td>\n",
       "      <td>7.0</td>\n",
       "      <td>4.286264e-16</td>\n",
       "      <td>8.0</td>\n",
       "      <td>8.0</td>\n",
       "    </tr>\n",
       "    <tr>\n",
       "      <th>4</th>\n",
       "      <td>6.735557e-16</td>\n",
       "      <td>15.0</td>\n",
       "      <td>9.184851e-16</td>\n",
       "      <td>16.0</td>\n",
       "      <td>16.0</td>\n",
       "    </tr>\n",
       "    <tr>\n",
       "      <th>5</th>\n",
       "      <td>1.592041e-15</td>\n",
       "      <td>31.0</td>\n",
       "      <td>1.898203e-15</td>\n",
       "      <td>32.0</td>\n",
       "      <td>32.0</td>\n",
       "    </tr>\n",
       "    <tr>\n",
       "      <th>6</th>\n",
       "      <td>3.490243e-15</td>\n",
       "      <td>63.0</td>\n",
       "      <td>3.857637e-15</td>\n",
       "      <td>64.0</td>\n",
       "      <td>64.0</td>\n",
       "    </tr>\n",
       "    <tr>\n",
       "      <th>7</th>\n",
       "      <td>7.347881e-15</td>\n",
       "      <td>127.0</td>\n",
       "      <td>7.776507e-15</td>\n",
       "      <td>128.0</td>\n",
       "      <td>128.0</td>\n",
       "    </tr>\n",
       "    <tr>\n",
       "      <th>8</th>\n",
       "      <td>1.512439e-14</td>\n",
       "      <td>255.0</td>\n",
       "      <td>1.561425e-14</td>\n",
       "      <td>256.0</td>\n",
       "      <td>256.0</td>\n",
       "    </tr>\n",
       "    <tr>\n",
       "      <th>9</th>\n",
       "      <td>3.073863e-14</td>\n",
       "      <td>511.0</td>\n",
       "      <td>3.128973e-14</td>\n",
       "      <td>512.0</td>\n",
       "      <td>512.0</td>\n",
       "    </tr>\n",
       "  </tbody>\n",
       "</table>\n",
       "</div>"
      ],
      "text/plain": [
       "           posX   posY            Vx     Vy   vAbs\n",
       "0  0.000000e+00    0.0  0.000000e+00    1.0    1.0\n",
       "1  0.000000e+00    1.0  6.123234e-17    2.0    2.0\n",
       "2  6.123234e-17    3.0  1.836970e-16    4.0    4.0\n",
       "3  2.449294e-16    7.0  4.286264e-16    8.0    8.0\n",
       "4  6.735557e-16   15.0  9.184851e-16   16.0   16.0\n",
       "5  1.592041e-15   31.0  1.898203e-15   32.0   32.0\n",
       "6  3.490243e-15   63.0  3.857637e-15   64.0   64.0\n",
       "7  7.347881e-15  127.0  7.776507e-15  128.0  128.0\n",
       "8  1.512439e-14  255.0  1.561425e-14  256.0  256.0\n",
       "9  3.073863e-14  511.0  3.128973e-14  512.0  512.0"
      ]
     },
     "execution_count": 137,
     "metadata": {},
     "output_type": "execute_result"
    }
   ],
   "source": [
    "class Drifter:\n",
    "    \n",
    "    def __init__(self):\n",
    "        self.deltaT = 1\n",
    "        self.action = (0,0)\n",
    "        \n",
    "        \n",
    "        self.position = np.array((0,0), dtype=np.float64)\n",
    "        self.velocity = np.array((0,1), dtype=np.float64)\n",
    "        self.acceleration = np.array((0,0), dtype=np.float64)\n",
    "        #self.isSliding = False\n",
    "        \n",
    "        self.mass = 1 #kg\n",
    "        #self.mu = .5 #Coefficient of priction\n",
    "        self.maxDrivingForce = 1\n",
    "        #self.length = 2 #m between axles\n",
    "        \n",
    "        self.alpha_grip = .7 # prop of grip on back wheels \n",
    "    \n",
    "    \n",
    "    def __vRadial2D__(self,v):\n",
    "        #print(v)\n",
    "        \n",
    "        r =  np.sqrt(np.sum(np.power(v,2)))\n",
    "        \n",
    "        if r != 0:\n",
    "            theta = np.arccos(v[0] / r)\n",
    "        else:\n",
    "            theta =  0\n",
    "        \n",
    "        \n",
    "        #print(r, theta)\n",
    "        return r, theta\n",
    "   \n",
    "    def updateState(self):\n",
    "        r, theta = self.__vRadial2D__(self.velocity)\n",
    "        \n",
    "        print(r)\n",
    "        Fs = r * np.sin(self.action[0])\n",
    "        print(Fs)\n",
    "        \n",
    "        self.acceleration = (self.action[1] / self.mass) * (self.velocity / r)   #(abs acceleration from gas ) * direction of velocity norm\n",
    "        #print(self.acceleration )   \n",
    "        self.acceleration += (Fs / self.mass) * np.array([np.cos(self.action[0]), np.sin(self.action[0]) ])\n",
    "        #print(self.acceleration )\n",
    "        \n",
    "        \n",
    "        self.position += self.velocity * self.deltaT\n",
    "        self.velocity += self.acceleration * self.deltaT\n",
    "        \n",
    "\n",
    "\n",
    "    def updateAction(self):\n",
    "        \n",
    "        theta = np.pi/2\n",
    "        \n",
    "        gas = 0\n",
    "        Fd = gas * self.maxDrivingForce\n",
    "        \n",
    "        self.action = (theta, Fd)\n",
    "        \n",
    "    \n",
    "    \n",
    "n = 10\n",
    "\n",
    "car = Drifter()\n",
    "\n",
    "state = pd.DataFrame(data=np.zeros((n,4)), columns=[\"posX\", \"posY\", \"Vx\", \"Vy\"])\n",
    "for i in range(n):\n",
    "    state.loc[i,:] = [car.position[0],car.position[1],car.velocity[0], car.velocity[1]]\n",
    "    #print(state[i])\n",
    "    car.updateAction()\n",
    "    car.updateState()\n",
    "    \n",
    "state[\"vAbs\"] = np.sqrt(state.Vx** 2 + state.Vy**2)\n",
    "state"
   ]
  },
  {
   "cell_type": "code",
   "execution_count": 126,
   "metadata": {},
   "outputs": [
    {
     "data": {
      "image/png": "[encoded data removed]",
      "text/plain": [
       "<Figure size 640x480 with 1 Axes>"
      ]
     },
     "metadata": {},
     "output_type": "display_data"
    }
   ],
   "source": [
    "plt.title(\"Path\")\n",
    "plt.scatter(state.posX, state.posY)\n",
    "plt.show()"
   ]
  },
  {
   "cell_type": "code",
   "execution_count": 131,
   "metadata": {},
   "outputs": [
    {
     "data": {
      "image/png": "[encoded data removed]",
      "text/plain": [
       "<Figure size 640x480 with 1 Axes>"
      ]
     },
     "metadata": {},
     "output_type": "display_data"
    }
   ],
   "source": [
    "\n",
    "plt.title(\"velocity over time\")\n",
    "plt.scatter(range(n),state.vAbs)\n",
    "plt.show()"
   ]
  },
  {
   "cell_type": "code",
   "execution_count": 124,
   "metadata": {},
   "outputs": [
    {
     "data": {
      "text/plain": [
       "tuple"
      ]
     },
     "execution_count": 124,
     "metadata": {},
     "output_type": "execute_result"
    }
   ],
   "source": [
    "rows = [s for s in state.iterrows()]\n",
    "\n",
    "type(rows[1])"
   ]
  }
 ],
 "metadata": {
  "kernelspec": {
   "display_name": "Python 3.10.7 ('venv': venv)",
   "language": "python",
   "name": "python3"
  },
  "language_info": {
   "codemirror_mode": {
    "name": "ipython",
    "version": 3
   },
   "file_extension": ".py",
   "mimetype": "text/x-python",
   "name": "python",
   "nbconvert_exporter": "python",
   "pygments_lexer": "ipython3",
   "version": "3.10.7"
  },
  "orig_nbformat": 4,
  "vscode": {
   "interpreter": {
    "hash": "3e548957fdffe93f143b27dd037893e4cfcde33c35aa71a8b572b5e45978bda3"
   }
  }
 },
 "nbformat": 4,
 "nbformat_minor": 2
}
